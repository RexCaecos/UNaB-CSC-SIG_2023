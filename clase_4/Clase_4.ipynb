{
 "cells": [
  {
   "cell_type": "markdown",
   "id": "7865de62-e6aa-47ad-b2cd-d4128552f2c4",
   "metadata": {},
   "source": [
    "# Instalación e importación de librerías requeridas"
   ]
  },
  {
   "cell_type": "code",
   "execution_count": null,
   "id": "6a4d3abc-ff24-4d4d-b070-9c5a8405d0a6",
   "metadata": {},
   "outputs": [],
   "source": [
    "!pip install owslib # Manipulación de geoservicios\n",
    "!pip install osmnx # Descarga de datos de OpenStreetMap"
   ]
  },
  {
   "cell_type": "code",
   "execution_count": null,
   "id": "8f43430c-7503-4b0a-85ce-badd85e51482",
   "metadata": {},
   "outputs": [],
   "source": [
    "import geopandas as gpd\n",
    "from shapely import wkt\n",
    "import pandas as pd\n",
    "from owslib.wfs import WebFeatureService\n",
    "import osmnx as ox"
   ]
  },
  {
   "cell_type": "markdown",
   "id": "cbc075d0-f423-4b26-96e4-45653b94f51a",
   "metadata": {},
   "source": [
    "# Accediendo a geoservicios WFS"
   ]
  },
  {
   "cell_type": "markdown",
   "id": "7a0c3510-a505-436b-a62a-e8bc2414efa8",
   "metadata": {},
   "source": [
    "## Búsqueda de URL y petición GetCapabilities\n",
    "Una fuente de direcciones URL a geoservicios es [Geoservicios IDERA.](https://www.idera.gob.ar/index.php?option=com_content&view=article&id=335:geoservicios&catid=33&Itemid=169) Una vez que accedemos y navegamos hacia la fuente de datos requeridas, copiamos el link de la columna WFS y la pegamos en la variable `wfs_url`."
   ]
  },
  {
   "cell_type": "code",
   "execution_count": null,
   "id": "8f94f9ef-ef87-42ee-82b9-dcba0f3464ba",
   "metadata": {},
   "outputs": [],
   "source": [
    "# URL del servicio WFS que deseas consultar\n",
    "wfs_url = \"https://wms.ign.gob.ar/geoserver/ows?service=wfs&version=1.1.0&request=GetCapabilities\" # IGN\n",
    "\n",
    "# Solicitud GetCapabilities al servicio WFS\n",
    "wfs = WebFeatureService(wfs_url, version='1.0.0')\n",
    "\n",
    "# Listado de capas publicadas\n",
    "list(wfs.contents)"
   ]
  },
  {
   "cell_type": "markdown",
   "id": "2675ca1b-d3b3-4f66-994c-7b330e3e4823",
   "metadata": {
    "editable": true,
    "slideshow": {
     "slide_type": ""
    },
    "tags": []
   },
   "source": [
    "## Selección de capa y solicitud GetFeature\n",
    "Seleccionamos de la lista un nombre y lo copiamos en la variable `capa`."
   ]
  },
  {
   "cell_type": "code",
   "execution_count": null,
   "id": "56f42c8e-1b92-4ad4-b56e-152b1f451beb",
   "metadata": {
    "editable": true,
    "slideshow": {
     "slide_type": ""
    },
    "tags": []
   },
   "outputs": [],
   "source": [
    "# Obtener la capa disponibles en el servicio WFS\n",
    "capa = ['ign:provincia'] # Es importante agregarla entre corchetes\n",
    "\n",
    "# Realiza una solicitud GetFeature para obtener los datos del servicio WFS\n",
    "response = wfs.getfeature(typename=capa)\n",
    "\n",
    "# Utilizamos Geopandas para convertir los datos en un GeoDataFrame\n",
    "gdf = gpd.read_file(response)\n",
    "\n",
    "# Muestra la información del GeoDataFrame\n",
    "gdf.head()"
   ]
  },
  {
   "cell_type": "code",
   "execution_count": null,
   "id": "79c49c45-5dc4-44d1-baec-423c2273eb46",
   "metadata": {},
   "outputs": [],
   "source": [
    "# Ploteamos\n",
    "gdf.plot()"
   ]
  },
  {
   "cell_type": "code",
   "execution_count": null,
   "id": "0ce6aa86-7b60-446b-ac5a-b1cf87818072",
   "metadata": {},
   "outputs": [],
   "source": [
    "# Consultamos su CRS\n",
    "print(gdf.crs)"
   ]
  },
  {
   "cell_type": "code",
   "execution_count": null,
   "id": "7759ad91-0cc0-44a3-b471-3bf201bcab9b",
   "metadata": {},
   "outputs": [],
   "source": [
    "# Evitemos posibles problemas asignandole un CRS adecuado\n",
    "gdf = gdf.set_crs('EPSG:????') # De acuerdo a las coordenadas de la columna \"geometry\" ¿En qué EPSG/CRS se encuentra?\n",
    "gdf.crs"
   ]
  },
  {
   "cell_type": "code",
   "execution_count": null,
   "id": "bb1d1663-fe67-4735-9f42-30466b49216a",
   "metadata": {},
   "outputs": [],
   "source": [
    "# Ploteamos\n",
    "gdf.plot()"
   ]
  },
  {
   "cell_type": "markdown",
   "id": "9dbb128a-1464-4180-bed6-9819ec2308c8",
   "metadata": {},
   "source": [
    "## Exportamos nuestros datos\n",
    "Guardamos los datos descargados en formato shapefile"
   ]
  },
  {
   "cell_type": "code",
   "execution_count": null,
   "id": "a3504d62-550e-4eb8-9d6e-687d688f25a9",
   "metadata": {},
   "outputs": [],
   "source": [
    "# Creamos una carpeta \"data_export\" si no existe\n",
    "import os\n",
    "if not os.path.exists('data_export'):\n",
    "    os.makedirs('data_export')\n",
    "    \n",
    "# Guardamos nuestro GeoDataFrame como un shapefile\n",
    "gdf.to_file('data_export/datos_wfs.shp', overwrite=True)"
   ]
  },
  {
   "cell_type": "markdown",
   "id": "d675066c-2fbb-4b1b-a532-fbbd7c97c545",
   "metadata": {},
   "source": [
    "# Descarga de datos desde OpenStreetMap\n",
    "La descarga de datos de OSM con la librería OSMNX requiere contemplar el tipo de información que se desea. En caso de requerir puntos de interés, edificios o equipamiento urbano, utilizamos la búsqueda por etiquetas y el método `features_from_place`. Este nos devuelve objetos GeoDataFrame.\n",
    "\n",
    "Por otro lado, si deseamos obtener la red vial, utilizamos el método `graph_from_place`, que nos devolverá un objeto de tipo grafo."
   ]
  },
  {
   "cell_type": "markdown",
   "id": "bd3f0e79-ee88-42ee-8479-5926b6c271a5",
   "metadata": {},
   "source": [
    "## Descarga de equipamiento urbano, puntos de interés, etc"
   ]
  },
  {
   "cell_type": "markdown",
   "id": "ee019c7f-89ef-4c13-9b59-d33a57999a3f",
   "metadata": {
    "editable": true,
    "slideshow": {
     "slide_type": ""
    },
    "tags": []
   },
   "source": [
    "### Búsqueda de etiquetas\n",
    "La descarga de datos desde OSM con el metodo `features_from_place()` se basa en la búsqueda por etiquetas. Los nombres de etiquetas permitidas pueden ser consultadas en el siguiente link:\n",
    "\n",
    "[https://wiki.openstreetmap.org/wiki/ES:Objetos_del_mapa](https://wiki.openstreetmap.org/wiki/ES:Objetos_del_mapa)\n",
    "\n",
    "Al buscar etiquetas, es útil tener en cuenta la estructura jerárquica de las mismas. Algunas etiquetas pueden ser más generales (por ejemplo, \"amenity\") y otras más específicas (por ejemplo, \"bar\").\n",
    "\n",
    "Puedes usar etiquetas generales para obtener una amplia gama de elementos: `etiqueta = {'amenity': True}`, o ser más específico utilizando etiquetas más detalladas: `etiqueta = {'amenity': \"bar\"}`."
   ]
  },
  {
   "cell_type": "markdown",
   "id": "9dcdb07d-30a4-4cef-9fe6-fc6efc4fa60a",
   "metadata": {},
   "source": [
    "### Descarga de equipamiento por nombre de lugar\n"
   ]
  },
  {
   "cell_type": "code",
   "execution_count": null,
   "id": "fc44d02e-fdf9-4af7-8255-cb6b0461ac91",
   "metadata": {
    "editable": true,
    "slideshow": {
     "slide_type": ""
    },
    "tags": []
   },
   "outputs": [],
   "source": [
    "# Definimos el lugar del que deseas obtener los datos (puede ser una ciudad, una dirección, etc.)\n",
    "nombre_lugar = \"Rosario, Santa Fe, Argentina\"\n",
    "\n",
    "# Define el diccionario de etiquetas para los elementos que deseas obtener.\n",
    "etiqueta = {\n",
    "    'amenity': 'bar',     # Equipamiento: Bar\n",
    "}\n",
    "\n",
    "# Obtiene los elementos disponibles en el lugar\n",
    "datos_osm = ox.features_from_place(nombre_lugar, tags=etiqueta)\n",
    "\n",
    "# Mostramos la tabla\n",
    "datos_osm.head()"
   ]
  },
  {
   "cell_type": "code",
   "execution_count": null,
   "id": "f0e48a8b-5c83-42da-8ab0-bdcf41a2561f",
   "metadata": {
    "editable": true,
    "slideshow": {
     "slide_type": ""
    },
    "tags": []
   },
   "outputs": [],
   "source": [
    "# Muestra el listado de elementos disponibles\n",
    "datos_osm.plot()"
   ]
  },
  {
   "cell_type": "code",
   "execution_count": null,
   "id": "72ae8f7c-2a60-4b82-8c2c-89630c6e98d0",
   "metadata": {},
   "outputs": [],
   "source": [
    "# Controlamos su CRS\n",
    "datos_osm.crs"
   ]
  },
  {
   "cell_type": "markdown",
   "id": "de69d4ac-d1ac-4f73-901a-486799dc14d4",
   "metadata": {},
   "source": [
    "### Exportamos nuestros datos\n",
    "El código a continuación transforma los datos y los exporta a geopackage. Veamoslo con atención:\n",
    "\n",
    "La primera línea del código utiliza el método `apply()` de Pandas para aplicar una función a cada columna del GeoDataFrame. En esta función, se realiza un ajuste de los tipos de datos de las columnas para asegurarse de que sean compatibles con el formato Geopackage y evitar posibles errores de exportación.\n",
    "\n",
    "La función `lambda` en `lambda c: c.astype(str) if c.name != \"geometry\" else c` se aplica a cada columna `c` del GeoDataFrame. Si el nombre de la columna es diferente de \"geometry\" (es decir, si no es la columna que contiene las geometrías), entonces se convierten todos los elementos de esa columna en texto utilizando el método `astype(str)`. Esto es útil para garantizar que todos los datos en esas columnas sean del tipo de dato `str` (cadena), ya que algunos datos descargados de OpenStreetMap pueden ser de diferentes tipos."
   ]
  },
  {
   "cell_type": "code",
   "execution_count": null,
   "id": "a499e55f-7ed0-41d5-a1fb-cc4447425a94",
   "metadata": {},
   "outputs": [],
   "source": [
    "# Preparación de datos\n",
    "datos_osm = datos_osm.apply(lambda c: c.astype(str) if c.name != \"geometry\" else c, axis=0)\n",
    "\n",
    "# Creamos una carpeta \"data_export\" si no existe\n",
    "import os\n",
    "if not os.path.exists('data_export'):\n",
    "    os.makedirs('data_export')\n",
    "    \n",
    "# Guardamos nuestro GeoDataFrame como un shapefile\n",
    "datos_osm.to_file('data_export/datos_puntos_osmnx.gpkg')"
   ]
  },
  {
   "cell_type": "markdown",
   "id": "cf2b59df-e2c4-419c-b3b4-75947c7e4666",
   "metadata": {},
   "source": [
    "## Descarga de calles desde OSM"
   ]
  },
  {
   "cell_type": "code",
   "execution_count": null,
   "id": "22a6bcd8-4615-4317-8503-992dd41026b9",
   "metadata": {},
   "outputs": [],
   "source": [
    "# Definimos el lugar del que deseas obtener los datos (puede ser una ciudad, una dirección, etc.)\n",
    "nombre_lugar = \"Rosario, Santa Fe, Argentina\"\n",
    "\n",
    "# Definimos el tipo de red a descargar. Puede ser: \"all_private\" , \"all\" , \"bike\" , \"drive\" , \"drive_service\" , \"walk\"\n",
    "tipo_red = \"drive\"\n",
    "red = ox.graph_from_place(nombre_lugar, network_type=tipo_red)"
   ]
  },
  {
   "cell_type": "markdown",
   "id": "9f5a591a-9725-4bae-bcd1-d5f387cfbe18",
   "metadata": {},
   "source": [
    "El objeto `red` es del tipo `MultiDiGraph` de la librería `NetworkX`. Esto permite realizar análisis espaciales sobre la red, como cálculos de caminos mas cortos, isocronas, etc.\n",
    "Visualizamos los datos de manera rápida y luego los exportamos a Geopackage."
   ]
  },
  {
   "cell_type": "code",
   "execution_count": null,
   "id": "c3eae4bd-c348-4314-9407-ab063d5fb7db",
   "metadata": {},
   "outputs": [],
   "source": [
    "# plot the network, but do not show it or close it yet\n",
    "fig, ax = ox.plot_graph(\n",
    "    red,\n",
    "    bgcolor=\"w\",\n",
    "    edge_color=\"#333333\",\n",
    "    edge_linewidth=0.5,\n",
    "    node_size=1,\n",
    "    node_color=\"red\"\n",
    ")"
   ]
  },
  {
   "cell_type": "markdown",
   "id": "857b1733-8513-406a-8118-9c9e5e357a31",
   "metadata": {},
   "source": [
    "### Exportamos nuestros datos\n",
    "La librería provee un método para exportar objetos `MultiDiGraph` a un archivo Geopackage."
   ]
  },
  {
   "cell_type": "code",
   "execution_count": null,
   "id": "014906fe-f5a8-4b3f-a8cc-1eec4c0061ff",
   "metadata": {},
   "outputs": [],
   "source": [
    "# Creamos una carpeta \"data_export\" si no existe\n",
    "import os\n",
    "if not os.path.exists('data_export'):\n",
    "    os.makedirs('data_export')\n",
    "\n",
    "#Exportamos en geopackage\n",
    "ox.save_graph_geopackage(red, filepath=\"data_export/red_osmnx.gpkg\")"
   ]
  },
  {
   "cell_type": "markdown",
   "id": "c3c97089-05df-41f9-996a-352315291134",
   "metadata": {},
   "source": [
    "# Cargando datos de Poblaciones.org"
   ]
  },
  {
   "cell_type": "code",
   "execution_count": null,
   "id": "20a28233-5f8d-4c1c-bb9f-6fd90a29828d",
   "metadata": {},
   "outputs": [],
   "source": [
    "# Carga de datos como CSV\n",
    "df = pd.read_csv('data/Indicadores de hogares. Provincias, 2010.csv')\n",
    "df.head()"
   ]
  },
  {
   "cell_type": "markdown",
   "id": "2bf26004-a87d-4cf6-b02d-ab025bb44880",
   "metadata": {},
   "source": [
    "Necesitamos transformar nuestra columna \"Geometría en WKT\" en una Geoseries y luego en un GeoDataFrame.\n",
    "Para eso utilizamos la siguiente sentencia:"
   ]
  },
  {
   "cell_type": "code",
   "execution_count": null,
   "id": "ab242205-7512-4899-871a-31c5aca2260b",
   "metadata": {},
   "outputs": [],
   "source": [
    "# Convierte la columna que contiene la geometría WKT\n",
    "df['geometry'] = df['Geometría en WKT'].apply(wkt.loads)\n",
    "\n",
    "# Convertir el DataFrame en un GeoDataFrame\n",
    "gdf = gpd.GeoDataFrame(df, geometry='geometry', crs='EPSG:4326')"
   ]
  },
  {
   "cell_type": "code",
   "execution_count": null,
   "id": "7a649e3e-894d-4b1c-a8ab-f456f012b23b",
   "metadata": {},
   "outputs": [],
   "source": [
    "gdf.plot()"
   ]
  }
 ],
 "metadata": {
  "kernelspec": {
   "display_name": "Python 3 (ipykernel)",
   "language": "python",
   "name": "python3"
  },
  "language_info": {
   "codemirror_mode": {
    "name": "ipython",
    "version": 3
   },
   "file_extension": ".py",
   "mimetype": "text/x-python",
   "name": "python",
   "nbconvert_exporter": "python",
   "pygments_lexer": "ipython3",
   "version": "3.8.16"
  }
 },
 "nbformat": 4,
 "nbformat_minor": 5
}
