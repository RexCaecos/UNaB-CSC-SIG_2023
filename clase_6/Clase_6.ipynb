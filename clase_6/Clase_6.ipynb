{
 "cells": [
  {
   "cell_type": "code",
   "execution_count": null,
   "id": "7ddd37e3-70b6-496d-8607-a7a084f032ec",
   "metadata": {},
   "outputs": [],
   "source": [
    "!pip install scipy"
   ]
  },
  {
   "cell_type": "markdown",
   "id": "6bdb8477-ea92-450e-8638-5e5c69c1b144",
   "metadata": {},
   "source": [
    "# Análisis Espaciales\n",
    "Los análisis espaciales hacen uso de las características de los objetos (atributos) y de la relación espacial entre elementos de una misma capa y/o de capas superpuestas, para realizar operaciones y devolvernos un resultado. \n",
    "\n",
    "<img src=\"image/datos_geo.png\" width=\"300\">\n",
    "\n",
    "Estas operaciones pueden producir:\n",
    "* Otra capa con objetos geográficos, de igual o distinto tipo de geometría que la capa original\n",
    "* Tablas sin geometrías\n",
    "* Un único valor"
   ]
  },
  {
   "cell_type": "markdown",
   "id": "acb90d74-60a1-4b14-9fd1-1c83e9ebdf23",
   "metadata": {},
   "source": [
    "## Transformaciones\n",
    "En esta categoría de análisis espaciales se engloban aquellas operaciones que dan como resultado elementos distintos a los datos de entrada. \n",
    "Los procedimientos más frecuentes realizados son: áreas de influencias (buffer), cálculos de centroides de polígonos, generación de intersecciones de calles, etc.\n",
    "Veremos algunos a continuación:"
   ]
  },
  {
   "cell_type": "markdown",
   "id": "9adde8da-0206-4f5a-ae21-793eed2ba5c7",
   "metadata": {},
   "source": [
    "### Buffer o áreas de influencia\n",
    "Los objetos geográficos tienen influencia sobre su entorno, Tobler (1970) dijo *“Todas las cosas están relacionadas entre sí, pero las cosas más próximas en el espacio tienen una relación mayor que las distantes”*. Tobler menciona el parámetro de distancia como un factor importante en los cálculos de influencias. "
   ]
  },
  {
   "cell_type": "code",
   "execution_count": null,
   "id": "b82823e8-fb9e-4d35-b3cc-bf55592089e1",
   "metadata": {},
   "outputs": [],
   "source": [
    "import os\n",
    "os.environ['USE_PYGEOS'] = '0'\n",
    "import geopandas as gpd\n",
    "from owslib.wfs import WebFeatureService\n",
    "\n",
    "# URL del servicio WFS que deseas consultar\n",
    "wfs_url = \"http://ide.pergamino.gob.ar:8080/geoserver/wfs\" # IGN\n",
    "\n",
    "# Solicitud GetCapabilities al servicio WFS\n",
    "wfs = WebFeatureService(wfs_url, version='1.0.0')\n",
    "\n",
    "# Listado de capas publicadas\n",
    "# list(wfs.contents)\n",
    "\n",
    "# Paradas de colectivos\n",
    "paradas_colectivos = gpd.read_file(wfs.getfeature(typename=['paradas_de_colectivo']))\n",
    "paradas_colectivos = paradas_colectivos.set_crs('EPSG:4326')\n",
    "paradas_colectivos = paradas_colectivos.to_crs('EPSG:5347') # Se transforma a Gauss Kruger Faja 5 para trabajar en un sistema proyectado"
   ]
  },
  {
   "cell_type": "code",
   "execution_count": null,
   "id": "d939b4ff-d7cb-46c0-8c79-e789a302b098",
   "metadata": {},
   "outputs": [],
   "source": [
    "import folium\n",
    "\n",
    "mapa = paradas_colectivos.explore(\n",
    "    style_kwds=dict(stroke=True, # Habilitar borde\n",
    "                    weight=1, # Grosor en px del borde\n",
    "                    color = 'red', # Color de borde\n",
    "                    fillColor='red', # Color de relleno\n",
    "                    fillOpacity=0.5),  # Opacidad de relleno\n",
    "    name=\"Parada Colectivo\",  # Nombre del layer en el control de capas\n",
    ")\n",
    "\n",
    "mapa # Mostrar mapa"
   ]
  },
  {
   "cell_type": "markdown",
   "id": "609f86d8-cf54-4ba4-bd4f-0b9bab594b34",
   "metadata": {},
   "source": [
    "Realizamos un buffer sobre las paradas de colectivo para conocer su área de influencia"
   ]
  },
  {
   "cell_type": "code",
   "execution_count": null,
   "id": "b48a081f-eb68-4175-b36e-50c523f1e0c3",
   "metadata": {},
   "outputs": [],
   "source": [
    "# Creación del buffer\n",
    "paradas_colectivos_buffer = paradas_colectivos.buffer(300) # Radio de influencia en unidades del sistema de coordenadas de la capa\n",
    "\n",
    "# Comprobación del objeto resultado\n",
    "paradas_colectivos_buffer.head()\n",
    "\n",
    "# Conversión en un GeoDataFrame\n",
    "paradas_colectivos_buffer = gpd.GeoDataFrame(geometry=paradas_colectivos_buffer, crs=paradas_colectivos.crs) # Indicamos"
   ]
  },
  {
   "cell_type": "code",
   "execution_count": null,
   "id": "f0a0ca2b-679b-4a83-a8be-b8cdc7b9bc03",
   "metadata": {},
   "outputs": [],
   "source": [
    "mapa = paradas_colectivos_buffer.explore(\n",
    "                    style_kwds=dict(stroke=True, # Habilitar borde\n",
    "                    weight=1, # Grosor en px del borde\n",
    "                    color = 'red', # Color de borde\n",
    "                    fillColor='red', # Color de relleno\n",
    "                    fillOpacity=0.2),  # Opacidad de relleno\n",
    "    name=\"Área Influencia\",  # Nombre del layer en el control de capas\n",
    ")\n",
    "\n",
    "folium.LayerControl().add_to(mapa)  # Agregar control de capas al mapa\n",
    "\n",
    "mapa # Mostrar mapa"
   ]
  },
  {
   "cell_type": "markdown",
   "id": "b2dedcb1-e4cd-4c9f-8564-37e09db24ab2",
   "metadata": {},
   "source": [
    "### Disolver\n",
    "Este algoritmo toma una capa vectorial de polígonos y borrará los límites comunes de los polígonos adyacentes. Se pueden especificar uno o más atributos para disolver características pertenecientes a la misma clase (con el mismo valor para los atributos especificados), o bien todos los objetos espaciales se pueden disolver en uno solo.\n",
    "\n",
    "Apliquemos este algoritmos sobre el área de influencia.\n"
   ]
  },
  {
   "cell_type": "code",
   "execution_count": null,
   "id": "b4ad3fe6-1af8-4ff5-9bdc-0aa9998b200b",
   "metadata": {},
   "outputs": [],
   "source": [
    "# Aplicamos un disolver sin agrupamiento por columna\n",
    "paradas_colectivos_dissolve = paradas_colectivos_buffer.dissolve()\n",
    "\n",
    "# Comprobación del objeto resultado\n",
    "paradas_colectivos_dissolve"
   ]
  },
  {
   "cell_type": "code",
   "execution_count": null,
   "id": "048118eb-484a-4856-8cd6-fbf7343aeadb",
   "metadata": {},
   "outputs": [],
   "source": [
    "mapa = paradas_colectivos_dissolve.explore(\n",
    "                    style_kwds=dict(stroke=True, # Habilitar borde\n",
    "                    weight=1, # Grosor en px del borde\n",
    "                    color = 'red', # Color de borde\n",
    "                    fillColor='red', # Color de relleno\n",
    "                    fillOpacity=0.2),  # Opacidad de relleno\n",
    "    name=\"Área Influencia Disuelta\",  # Nombre del layer en el control de capas\n",
    ")\n",
    "\n",
    "mapa # Mostrar mapa"
   ]
  },
  {
   "cell_type": "markdown",
   "id": "4ce743ea-d19e-492a-9469-a59dff16f777",
   "metadata": {},
   "source": [
    "### Polígonos de Voronoi\n",
    "Este algoritmo permite dividir el territorio en regiones de tal forma que los elementos superpuestos en ellas están más cerca del punto que le da origen que de ningún otro.\n",
    "\n",
    "![Polígonos de Voronoi](image/voronoi.jpg)\n",
    "\n",
    "La creación de estos polígonos se realiza a través de la creación de una línea perpendicular a la recta que une 2 puntos y ubicada a la mitad de la distancia entre ellos.\n",
    "\n",
    "Este algoritmo es utilizado cuando se quieren aproximar la población afectada a un objeto particular, ya que se podría entender que los elementos dentro de la región están siendo influenciados o alcanzados por el punto que le da origen.\n",
    "\n",
    "Aplicaremos esta transformación para conocer la parada más cercana de acuerdo a la ubicación."
   ]
  },
  {
   "cell_type": "code",
   "execution_count": null,
   "id": "e71e7ab3-cd8f-43fa-977e-1c0944da49a8",
   "metadata": {},
   "outputs": [],
   "source": [
    "from scipy.spatial import Voronoi\n",
    "from shapely.geometry import Polygon\n",
    "import pandas as pd\n",
    "\n",
    "# Extraemos coordenadas X e Y de la geometría porque es la forma que lo requiere scipy.spatial\n",
    "x_coords = paradas_colectivos.geometry.x\n",
    "y_coords = paradas_colectivos.geometry.y\n",
    "\n",
    "# Creamos un DataFrame con las coordenadas\n",
    "coords_paradas = pd.DataFrame({'X': x_coords, 'Y': y_coords})\n",
    "\n",
    "# Creamos polígonos de Voronoi\n",
    "vor = Voronoi(coords_paradas)\n",
    "\n",
    "# Capturamos los vertices de cada polígono\n",
    "voronoi_polygons = []\n",
    "for region in vor.regions:\n",
    "    if not -1 in region and len(region) > 0:\n",
    "        vertices = [vor.vertices[i] for i in region]\n",
    "        voronoi_polygons.append(Polygon(vertices))\n",
    "\n",
    "# Creamos un GeoDataFrame con los polígonos de Voronoi\n",
    "poligonos_voronoi = gpd.GeoDataFrame(geometry=voronoi_polygons)\n",
    "poligonos_voronoi = poligonos_voronoi.set_crs(paradas_colectivos.crs) # Utilizamos la capa que le da origen\n",
    "\n",
    "# Mostramos el GeoDataFrame resultante\n",
    "mapa = poligonos_voronoi.explore(\n",
    "                    style_kwds=dict(stroke=True, # Habilitar borde\n",
    "                    weight=1, # Grosor en px del borde\n",
    "                    color = 'red', # Color de borde\n",
    "                    fillColor='red', # Color de relleno\n",
    "                    fillOpacity=0.2),  # Opacidad de relleno\n",
    "    name=\"Área Influencia Disuelta\",  # Nombre del layer en el control de capas\n",
    ")\n",
    "\n",
    "mapa # Mostrar mapa"
   ]
  },
  {
   "cell_type": "markdown",
   "id": "ef782465-1f87-43ea-90ec-29eb7d6c849a",
   "metadata": {},
   "source": [
    "### Cortar\n",
    "Cortamos los polígonos de Voronoi con el área de influencia para enmarcar nuestro problema al área de estudio con el método `overlay`."
   ]
  },
  {
   "cell_type": "code",
   "execution_count": null,
   "id": "d9efdd88-5453-4a0e-902a-22867123fc5e",
   "metadata": {},
   "outputs": [],
   "source": [
    "# Cortamos la capa Voronoi con el área de influencia disuelta\n",
    "resultado_corte = gpd.overlay(poligonos_voronoi, paradas_colectivos_dissolve, how='intersection')\n",
    "\n",
    "# Mostramos el GeoDataFrame resultante\n",
    "mapa = resultado_corte.explore(\n",
    "                    style_kwds=dict(stroke=True, # Habilitar borde\n",
    "                    weight=1, # Grosor en px del borde\n",
    "                    color = 'red', # Color de borde\n",
    "                    fillColor='red', # Color de relleno\n",
    "                    fillOpacity=0.2),  # Opacidad de relleno\n",
    "    name=\"Área Influencia Disuelta\",  # Nombre del layer en el control de capas\n",
    ")\n",
    "\n",
    "paradas_colectivos.explore(\n",
    "    m=mapa,  # pass the map object\n",
    "    style_kwds=dict(stroke=True, # Habilitar borde\n",
    "                    weight=1, # Grosor en px del borde\n",
    "                    color = 'blue', # Color de borde\n",
    "                    fillColor='blue', # Color de relleno\n",
    "                    fillOpacity=0.5),  # Opacidad de relleno\n",
    "    name=\"Parada Colectivo\",  # Nombre del layer en el control de capas\n",
    ")\n",
    "\n",
    "folium.LayerControl().add_to(mapa)  # use folium to add layer control\n",
    "\n",
    "mapa # Mostrar mapa"
   ]
  },
  {
   "cell_type": "markdown",
   "id": "6209e684-4ea5-427d-bc5d-fac233a81708",
   "metadata": {},
   "source": [
    "### Centroides\n",
    "Este algoritmo crea una capa de puntos que representa el centroide de las geometrías de la capa de entrada. El centroide es el punto ubicado en las coordenadas X e Y promedio de los vértices de la geometría de entrada.\n",
    "\n",
    "![Clase_6/image/centroides.png](image/centroides.png)"
   ]
  },
  {
   "cell_type": "code",
   "execution_count": null,
   "id": "e9dfbfca-cddc-4758-9a11-f61271adad8a",
   "metadata": {},
   "outputs": [],
   "source": [
    "# Barrios\n",
    "barrios = gpd.read_file(wfs.getfeature(typename=['barrios']))\n",
    "barrios = barrios.set_crs('EPSG:5347') # Se comprobó que no tenía CRS asignado, se verificaron las coordenadas y se asigna Gauss-Kruguer Faja 5 para tener un sistema proyectado\n",
    "\n",
    "# Calculos de centroides\n",
    "barrios_centroides = barrios.geometry.centroid\n",
    "\n",
    "# Mostramos el GeoDataFrame resultante\n",
    "mapa = barrios.explore(\n",
    "                    style_kwds=dict(stroke=True, # Habilitar borde\n",
    "                    weight=1, # Grosor en px del borde\n",
    "                    color = 'red', # Color de borde\n",
    "                    fillColor='red', # Color de relleno\n",
    "                    fillOpacity=0.2),  # Opacidad de relleno\n",
    "    name=\"Barrios\",  # Nombre del layer en el control de capas\n",
    ")\n",
    "\n",
    "barrios_centroides.explore(\n",
    "    m=mapa,  # pass the map object\n",
    "    style_kwds=dict(stroke=True, # Habilitar borde\n",
    "                    weight=1, # Grosor en px del borde\n",
    "                    color = 'black', # Color de borde\n",
    "                    fillColor='black', # Color de relleno\n",
    "                    fillOpacity=0.5),  # Opacidad de relleno\n",
    "    name=\"Centroide\",  # Nombre del layer en el control de capas\n",
    ")\n",
    "\n",
    "folium.LayerControl().add_to(mapa)  # use folium to add layer control\n",
    "\n",
    "mapa # Mostrar mapa"
   ]
  },
  {
   "cell_type": "markdown",
   "id": "5e13d392-8635-4538-87e9-076feb133f1c",
   "metadata": {},
   "source": [
    "## Combinaciones\n",
    "Son unas de las operaciones más realizadas dentro de los SIG, comprende la superposición de objetos de distintas capas. La naturaleza de la unión por superposición presenta alternativas como son las uniones 1 a 1, 1 a muchos o muchos a muchos.\n",
    "\n",
    "El predicado espaciales determina la forma en que nuestros objetos geográficos se relacionan en el espacio. Los principales métodos entre la geometría A y otra B son:\n",
    "\n",
    "![Clase_6/image/TopologicSpatialRelations2.png](image/TopologicSpatialRelations2.png)\n",
    "\n",
    "* Equals (A, B): Las geometrías son iguales desde un punto de vista topológico\n",
    "* Disjoint (A, B): No tienen ningún punto en común, las geometrías son disjuntas\n",
    "* Intersects (A, B):Tienen por lo menos un punto en común. Es el inverso de Disjoint\n",
    "* Touches (A, B): Las geometrías tendrán por lo menos un punto en común del contorno, pero no puntos interiores\n",
    "* Crosses (A, B): Comparten parte, pero no todos los puntos interiores, y la dimensión de la intersección es menor que la dimensión de al menos una de las geometrías\n",
    "* Contains (A, B): Ningún punto de B está en el exterior de A. Al menos un punto del interior de B está en el interior de A\n",
    "* Within (A, B): Es el inverso de Contains. Within(B, A) = Contains (A, B)\n",
    "* Overlaps (A, B): Las geometrías comparten parte pero no todos los puntos y la intersección tiene la misma dimensión que las geometrías.\n",
    "* Covers (A, B): Ningún punto de B está en el exterior de A. B está contenido en A.\n",
    "* CoveredBy (A, B): Es el inverso de Covers. CoveredBy(A, B) = Covers(B, A)\n",
    "\n",
    "Fuente: [https://geotalleres.readthedocs.io/es/latest/postgis-relaciones-espaciales/relaciones_espaciales.html](https://geotalleres.readthedocs.io/es/latest/postgis-relaciones-espaciales/relaciones_espaciales.html)\n",
    "\n"
   ]
  },
  {
   "cell_type": "markdown",
   "id": "45674e6f-aa0f-4a1f-96bf-25b1dc1553ba",
   "metadata": {},
   "source": [
    "### Unión 1 a 1\n",
    "Este algoritmo toma una capa vectorial de entrada y crea una nueva capa que contiene los atributos de la capa original junto a los atributos de los objetos superpuestos. Los atributos adicionales y sus valores se toman de una segunda capa vectorial. Se aplica un criterio espacial para seleccionar los valores de la segunda capa que se agregan a cada entidad de la primera capa."
   ]
  },
  {
   "cell_type": "code",
   "execution_count": null,
   "id": "02565835-180c-4586-94a4-2a7ac0c9ff02",
   "metadata": {},
   "outputs": [],
   "source": [
    "# Realizar la unión espacial por superposición (contención)\n",
    "union_1a1 = resultado_corte.sjoin(paradas_colectivos, how=\"inner\", predicate='contains')\n",
    "\n",
    "# Mostramos el GeoDataFrame resultante\n",
    "mapa = union_1a1.explore(\n",
    "                    style_kwds=dict(stroke=True, # Habilitar borde\n",
    "                    weight=1, # Grosor en px del borde\n",
    "                    color = 'red', # Color de borde\n",
    "                    fillColor='red', # Color de relleno\n",
    "                    fillOpacity=0.2),  # Opacidad de relleno\n",
    "    name=\"Área Influencia Disuelta\",  # Nombre del layer en el control de capas\n",
    ")\n",
    "\n",
    "mapa # Mostrar mapa"
   ]
  },
  {
   "cell_type": "markdown",
   "id": "362bb1a7-69c6-4a42-9030-79d64a2bd560",
   "metadata": {},
   "source": [
    "### Unión muchos a 1\n",
    "Cuando realizamos uniones, existe la posibilidad que muchos elementos de la capa a unir cumplan con el predicado geométrico establecido. En ese caso, la herramienta calcula un resumen estadístico de los atributos de los objetos coincidentes en la segunda capa (por ejemplo, valor máximo, valor medio, etc.).\n",
    "\n",
    "En nuestro caso contaremos el número de paradas de colectivos por barrio."
   ]
  },
  {
   "cell_type": "code",
   "execution_count": null,
   "id": "ec23edcc-30ef-4a76-91e1-999b2c1e7dfe",
   "metadata": {},
   "outputs": [],
   "source": [
    "# Mostramos el GeoDataFrame resultante\n",
    "mapa = barrios.explore(\n",
    "                    style_kwds=dict(stroke=True, # Habilitar borde\n",
    "                    weight=1, # Grosor en px del borde\n",
    "                    color = 'red', # Color de borde\n",
    "                    fillColor='red', # Color de relleno\n",
    "                    fillOpacity=0.2),  # Opacidad de relleno\n",
    "    name=\"Barrios\",  # Nombre del layer en el control de capas\n",
    ")\n",
    "\n",
    "paradas_colectivos.explore(\n",
    "    m=mapa,  # pass the map object\n",
    "    style_kwds=dict(stroke=True, # Habilitar borde\n",
    "                    weight=1, # Grosor en px del borde\n",
    "                    color = 'blue', # Color de borde\n",
    "                    fillColor='blue', # Color de relleno\n",
    "                    fillOpacity=0.5),  # Opacidad de relleno\n",
    "    name=\"Parada Colectivo\",  # Nombre del layer en el control de capas\n",
    ")\n",
    "\n",
    "folium.LayerControl().add_to(mapa)  # use folium to add layer control\n",
    "\n",
    "mapa # Mostrar mapa"
   ]
  },
  {
   "cell_type": "code",
   "execution_count": null,
   "id": "4391d3f0-b6d3-4048-aef9-504734666a74",
   "metadata": {},
   "outputs": [],
   "source": [
    "# Realizar la unión espacial por superposición (contención)\n",
    "union = barrios.sjoin(paradas_colectivos, how='inner', predicate='contains')\n",
    "union.head()"
   ]
  },
  {
   "cell_type": "code",
   "execution_count": null,
   "id": "8fb7bf96-dd00-4276-b722-eef466f2187e",
   "metadata": {},
   "outputs": [],
   "source": [
    "# Agrupamos la tabla de unión por el identificador único del barrio\n",
    "conteo_por_barrio = union.groupby('id').size().reset_index(name='cantidad_paradas') #Size devuelve el numero de filas (Pandas)\n",
    "\n",
    "# Si quisiera calcular el mediana de un campo numérico\n",
    "# promedio_por_barrio = union.groupby('id')['columna_numerica'].median().reset_index(name='mediana_barrio')\n",
    "\n",
    "# Fusionar el recuento con el GeoDataFrame de barrios\n",
    "barrios = barrios.merge(conteo_por_barrio, on='id', how='left')"
   ]
  },
  {
   "cell_type": "code",
   "execution_count": null,
   "id": "bc2a01fc-e05d-471f-b18d-e55f0c1bdb0c",
   "metadata": {},
   "outputs": [],
   "source": [
    "# Mostramos el GeoDataFrame resultante\n",
    "mapa = barrios.explore(\n",
    "                    style_kwds=dict(stroke=True, # Habilitar borde\n",
    "                    weight=1, # Grosor en px del borde\n",
    "                    color = 'red', # Color de borde\n",
    "                    fillColor='red', # Color de relleno\n",
    "                    fillOpacity=0.2),  # Opacidad de relleno\n",
    "    name=\"Barrios\",  # Nombre del layer en el control de capas\n",
    ")\n",
    "\n",
    "paradas_colectivos.explore(\n",
    "    m=mapa,  # pass the map object\n",
    "    style_kwds=dict(stroke=True, # Habilitar borde\n",
    "                    weight=1, # Grosor en px del borde\n",
    "                    color = 'blue', # Color de borde\n",
    "                    fillColor='blue', # Color de relleno\n",
    "                    fillOpacity=0.5),  # Opacidad de relleno\n",
    "    name=\"Parada Colectivo\",  # Nombre del layer en el control de capas\n",
    ")\n",
    "\n",
    "folium.LayerControl().add_to(mapa)  # use folium to add layer control\n",
    "\n",
    "mapa # Mostrar mapa"
   ]
  },
  {
   "cell_type": "code",
   "execution_count": null,
   "id": "885123a5-cffb-4750-a64a-14b565e2a190",
   "metadata": {},
   "outputs": [],
   "source": [
    "# Completamos los datos faltantes en la columna 'cantidad_paradas' con 0\n",
    "barrios['cantidad_paradas'].fillna(0, inplace=True)"
   ]
  },
  {
   "cell_type": "markdown",
   "id": "ec958e75-cdb2-4188-b558-ccf34f8d2ada",
   "metadata": {},
   "source": [
    "## Cálculo de distancias\n",
    "Son de las operaciones mas clásicas en SIG. El resultado de este análisis es la distancia entre los objetos más cercanos de 2 capas."
   ]
  },
  {
   "cell_type": "code",
   "execution_count": null,
   "id": "0fd4eb38-6975-481d-bd06-dac1719a42a7",
   "metadata": {},
   "outputs": [],
   "source": [
    "# Cursos de agua\n",
    "cursos_de_agua = gpd.read_file(wfs.getfeature(typename=['cursos_de_agua']))\n",
    "cursos_de_agua = cursos_de_agua.set_crs('EPSG:5347') # Se comprobó que no tenía CRS asignado, se verificaron las coordenadas y se asigna Gauss-Kruguer Faja 5 para tener un sistema proyectado\n",
    "\n",
    "from shapely.ops import nearest_points\n",
    "# Crear una lista para almacenar las distancias al río más cercano\n",
    "distancias_al_rio = []\n",
    "\n",
    "# Iterar sobre los barrios y calcular la distancia al río más cercano\n",
    "for idx, barrio in barrios.iterrows():\n",
    "    punto_barrio = barrio.geometry.centroid\n",
    "    punto_mas_cercano = nearest_points(punto_barrio, cursos_de_agua.unary_union)[1]\n",
    "    distancia = punto_barrio.distance(punto_mas_cercano)\n",
    "    distancias_al_rio.append(distancia)\n",
    "\n",
    "# Agregar la lista de distancias al GeoDataFrame de barrios\n",
    "barrios['distancia_al_rio_mas_cercano'] = distancias_al_rio"
   ]
  },
  {
   "cell_type": "code",
   "execution_count": null,
   "id": "c29e4396-44fa-4eb8-a77f-7f97cb1b2074",
   "metadata": {},
   "outputs": [],
   "source": [
    "# Mostramos el GeoDataFrame resultante\n",
    "mapa = barrios.explore(\n",
    "                    style_kwds=dict(stroke=True, # Habilitar borde\n",
    "                    weight=1, # Grosor en px del borde\n",
    "                    color = 'red', # Color de borde\n",
    "                    fillColor='red', # Color de relleno\n",
    "                    fillOpacity=0.2),  # Opacidad de relleno\n",
    "    name=\"Barrios\",  # Nombre del layer en el control de capas\n",
    ")\n",
    "\n",
    "barrios_centroides.explore(\n",
    "    m=mapa,  # pass the map object\n",
    "    style_kwds=dict(stroke=True, # Habilitar borde\n",
    "                    weight=1, # Grosor en px del borde\n",
    "                    color = 'black', # Color de borde\n",
    "                    fillColor='black', # Color de relleno\n",
    "                    fillOpacity=0.5),  # Opacidad de relleno\n",
    "    name=\"Centroide\",  # Nombre del layer en el control de capas\n",
    ")\n",
    "\n",
    "cursos_de_agua.explore(\n",
    "    m=mapa,  # pass the map object\n",
    "    style_kwds=dict(stroke=True, # Habilitar borde\n",
    "                    weight=2, # Grosor en px del borde\n",
    "                    color = 'blue'), # Color de borde\n",
    "    name=\"Curso de agua\",  # Nombre del layer en el control de capas\n",
    ")\n",
    "\n",
    "folium.LayerControl().add_to(mapa)  # use folium to add layer control\n",
    "\n",
    "mapa # Mostrar mapa"
   ]
  }
 ],
 "metadata": {
  "kernelspec": {
   "display_name": "Python 3 (ipykernel)",
   "language": "python",
   "name": "python3"
  },
  "language_info": {
   "codemirror_mode": {
    "name": "ipython",
    "version": 3
   },
   "file_extension": ".py",
   "mimetype": "text/x-python",
   "name": "python",
   "nbconvert_exporter": "python",
   "pygments_lexer": "ipython3",
   "version": "3.8.16"
  }
 },
 "nbformat": 4,
 "nbformat_minor": 5
}
