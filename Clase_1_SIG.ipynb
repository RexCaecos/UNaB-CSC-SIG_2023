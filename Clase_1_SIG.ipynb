{
  "nbformat": 4,
  "nbformat_minor": 0,
  "metadata": {
    "colab": {
      "provenance": []
    },
    "kernelspec": {
      "name": "python3",
      "display_name": "Python 3"
    },
    "language_info": {
      "name": "python"
    }
  },
  "cells": [
    {
      "cell_type": "markdown",
      "source": [
        "# El origen de los SIG: La bomba de agua de Broad Street\n",
        "En 1854, un pequeño sector de Londres, llamado Golden Square fue escenario de un brote epidémico de cólera de inusual intensidad, costándole la vida alrededor de 500 personas en tan sólo 10 días. El médico e investigador, John Snow, también conocido como el padre de la epidemiología moderna a partir de la resolución de este caso, demostró gráficamente la relación espacial entre las muertes y la bomba de agua pública1.\n",
        "Con su investigación, confirmó que la mayoría de los habitantes de ese sector se abastecían de agua extraída de la bomba de Broad Street. Calculó la distancia entre la residencia de cada difunto y la bomba de agua más cercana, observando que los difuntos bebían de sus aguas contaminadas. Para poder ilustrar los resultados de su investigación confeccionó un mapa del sector, en el cual marcó los puntos correspondientes a defunciones por cólera y las distintas bombas de agua potable existentes, además de los nombres de calles, la cervecería y la hostería donde pudo encontrar respuestas que validaban su investigación.\n",
        "A raíz de su estudio, se pudo verificar que, bajo tierra, una tubería de alcantarillado pasaba a escasa distancia de la fuente de agua de la bomba, existiendo filtraciones. Este caso suele citarse como el origen de los Sistemas de Información Geográfico.\n",
        "\n",
        "![origen_sig.png](data:image/png;base64,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)\n",
        "\n",
        "[John Snow, la epidemia de cólera y el nacimiento de la epidemiología moderna](https://scielo.conicyt.cl/scielo.php?script=sci_arttext&pid=S0716-10182007000400014)\n",
        "\n",
        "[Artículo Wikipedia: John Snow](https://es.wikipedia.org/wiki/John_Snow)"
      ],
      "metadata": {
        "id": "V3A0GJ3F2CmP"
      }
    },
    {
      "cell_type": "markdown",
      "source": [
        "# ¿Qué es un SIG?\n",
        "\n",
        "Como lo indica el título un SIG es un SISTEMA por lo tanto se funda en dicho concepto entendiendo el mismo como elemento INTEGRADOR que engloba a un conjunto de COMPONENTES interrelacionados. Entonces, un SIG es un sistema que integra tecnología informática, personas e información geográfica, cuya principal función es capturar, analizar, almacenar, editar y representar DATOS GEORREFERENCIADOS (Olaya, 2014).\n",
        "\n",
        "<img src=\"https://www.researchgate.net/publication/319140981/figure/fig3/AS:528009695772673@1502898729446/Figura-5-Elementos-que-forman-el-sistema-SIG-Elaboracion-propia.png\" width=300px></img>\n",
        "\n",
        "Componentes de un SIG (visión tradicional) según Olaya (2014):\n",
        "* **Datos**. Los datos son la materia prima necesaria para el trabajo en un SIG, y los que contienen la información geográfica vital para la propia existencia de los SIG.\n",
        "* **Métodos**. Un conjunto de formulaciones y metodologías a aplicar sobre los datos.\n",
        "* **Software**. Es necesaria una aplicación informática que pueda trabajar con los datos e implemente los métodos anteriores.\n",
        "* **Hardware**. El equipo necesario para ejecutar el software.\n",
        "* **Personas**. Las personas son las encargadas de diseñar y utilizar el software, siendo el motor del sistema SIG.\n",
        "\n",
        "Componentes de un SIG (evolución del esquema clásico) también propuesta por Olaya (2014):\n",
        "* **Datos**. Son la razón de ser de los SIG. Conocer sus propiedades y características es vital para saber que procesos ejecutar y que esperar de ellos.\n",
        "* **Análisis**. Métodos y procesos enfocados al análisis de los datos.\n",
        "* **Visualización**. Métodos y fundamentos relacionados con la representación de los datos.\n",
        "* **Tecnología**. Software y hardware SIG.\n",
        "* **Factor organizativo**. Engloba los elementos relativos a la coordinación entre personas, datos y tecnología, o la comunicación entre ellos, entre otros aspectos.\n",
        "\n",
        "Seguidamente, podemos decir que un SIG es una base de datos georreferenciada diseñada para visualizar, editar, gestionar y analizar información geográfica con el fin de contribuir a resolver problemas complejos de planificación y gestión del territorio (Dirección Provincial de Ordenamiento Urbano y Territorial, 2011)."
      ],
      "metadata": {
        "id": "OK4G6F2WioaV"
      }
    },
    {
      "cell_type": "markdown",
      "source": [
        "# Características de un SIG\n",
        "## Organización de los SIG\n",
        "Los SIG organizan la información en **capas** (también llamadas *layers*), las cuales se superponen y permiten ver distintos patrones, situaciones y relaciones en el espacio. Cabe destacar que aquello que vemos en un SIG es un **modelo** de la realidad, es que decir que en un SIG se intenta representar la realidad digitalmente. Estas capas de información pueden contener información temática específica que en su conjunto y superpuestas intentan ser un modelo del mundo real.\n",
        "\n",
        "<img src=\"https://reader.digitalbooks.pro/content/preview/books/38845/book/OEBPS/images/EPI_geo_06.jpg\" width=500px></img>\n",
        "\n",
        "## Insumo principal\n",
        "El insumo fundamental de los SIG son los datos geográficos, una de las características más importantes es que estos **datos están georreferenciados**, ¿qué significa? Esto quiere decir que este tipo de información posee una posición absoluta (una única posición en el espacio que se identifica con las coordenadas), una posición relativa (en relación a otros elementos) y atributos (características del elemento representadas por datos alfanuméricos).\n",
        "Asimismo, cada entidad gráfica en un SIG se encuentra asociada a un registro en la tabla de atributos. De esta forma, al seleccionar un objeto en el mapa es posible visualizar los atributos descriptivos (alfanuméricos) del mismo e, inversamente, al consultar un registro en la tabla se conoce en simultaneo su localización en el mapa.\n",
        "\n",
        "Además, un SIG puede integrar diversas fuentes de información:\n",
        "* Cartografía.\n",
        "* Imágenes satelitales, fotografías aéreas.\n",
        "* Archivos CAD.\n",
        "* Bases de datos.\n",
        "* Planillas con estadísticas.\n",
        "\n",
        "## Tipos de datos\n",
        "\n",
        "Un SIG trabaja con dos tipos de información:\n",
        "* Vectorial\n",
        "* Ráster\n",
        "\n",
        "Cuando los objetos de la realidad son representados a través de puntos, líneas y polígonos nos referimos al tipo o modelo de dato vectorial. En cambio, cuando utilizamos una grilla de celdas nos referimos a modelo de dato ráster.\n",
        "\n",
        "En los ráster se divide el espacio en celdas (píxeles) regulares (es decir, de igual tamaño) organizadas en filas y columnas donde cada una de ellas representa un único valor. El píxel o celda es la unidad mínima de información y el conjunto de estos conforman una imagen. Los formatos más comunes son jpeg, png o tiff.\n",
        "\n",
        "<img src=\"https://mygisnotebook.files.wordpress.com/2019/03/1-raster-vs-vectorial.png\" width=300px></img>\n"
      ],
      "metadata": {
        "id": "GUyk6bvq2QTM"
      }
    },
    {
      "cell_type": "markdown",
      "source": [
        "# Geopandas\n",
        "## Introducción\n",
        "Geopandas es un proyecto de código abierto desarrollado con el fin de ampliar la popular biblioteca Pandas, añadiendo el soporte para el manejo de datos geoespaciales.\n",
        "\n",
        "Un GeoDataFrame es un DataFrame tradicional de Pandas con una o más columnas que almacenan la geometría de objeto espacial (modelo vectorial). Esta columna es de la subclase GeoSeries (extendiendo la subclase Series original de Pandas).\n",
        "\n",
        "<img src=\"https://geopandas.org/en/stable/_images/dataframe.svg\" width=600px></img>\n",
        "\n"
      ],
      "metadata": {
        "id": "rfTQLXjB2JWP"
      }
    },
    {
      "cell_type": "markdown",
      "source": [
        "## Instalación de Geopandas\n",
        "Previo a su uso, debemos instalar Geopandas. Si contamos con Anaconda podemos instalar desde la línea de comando tipeando:\n",
        "\n",
        "`conda install geopandas`\n",
        "\n",
        "Otra alternativa es utilizando el sistema de gestión de paquetes PIP:\n",
        "\n",
        "`pip install geopandas`\n",
        "\n",
        "**NOTA**: Si utilizamos Google Colab, deberemos instalar Geopandas cada vez que iniciamos nuestro trabajo en la notebook."
      ],
      "metadata": {
        "id": "471mEIAmPHhy"
      }
    },
    {
      "cell_type": "code",
      "source": [
        "!pip install geopandas\n",
        "!pip install mapclassify # Visualización interactiva"
      ],
      "metadata": {
        "colab": {
          "base_uri": "https://localhost:8080/"
        },
        "id": "gywwXn0xP-yY",
        "outputId": "4a7c651e-a003-4f0a-9ae8-63cb76c21171"
      },
      "execution_count": null,
      "outputs": [
        {
          "output_type": "stream",
          "name": "stdout",
          "text": [
            "Requirement already satisfied: geopandas in /usr/local/lib/python3.10/dist-packages (0.13.2)\n",
            "Requirement already satisfied: fiona>=1.8.19 in /usr/local/lib/python3.10/dist-packages (from geopandas) (1.9.4.post1)\n",
            "Requirement already satisfied: packaging in /usr/local/lib/python3.10/dist-packages (from geopandas) (23.1)\n",
            "Requirement already satisfied: pandas>=1.1.0 in /usr/local/lib/python3.10/dist-packages (from geopandas) (1.5.3)\n",
            "Requirement already satisfied: pyproj>=3.0.1 in /usr/local/lib/python3.10/dist-packages (from geopandas) (3.6.0)\n",
            "Requirement already satisfied: shapely>=1.7.1 in /usr/local/lib/python3.10/dist-packages (from geopandas) (2.0.1)\n",
            "Requirement already satisfied: attrs>=19.2.0 in /usr/local/lib/python3.10/dist-packages (from fiona>=1.8.19->geopandas) (23.1.0)\n",
            "Requirement already satisfied: certifi in /usr/local/lib/python3.10/dist-packages (from fiona>=1.8.19->geopandas) (2023.5.7)\n",
            "Requirement already satisfied: click~=8.0 in /usr/local/lib/python3.10/dist-packages (from fiona>=1.8.19->geopandas) (8.1.6)\n",
            "Requirement already satisfied: click-plugins>=1.0 in /usr/local/lib/python3.10/dist-packages (from fiona>=1.8.19->geopandas) (1.1.1)\n",
            "Requirement already satisfied: cligj>=0.5 in /usr/local/lib/python3.10/dist-packages (from fiona>=1.8.19->geopandas) (0.7.2)\n",
            "Requirement already satisfied: six in /usr/local/lib/python3.10/dist-packages (from fiona>=1.8.19->geopandas) (1.16.0)\n",
            "Requirement already satisfied: python-dateutil>=2.8.1 in /usr/local/lib/python3.10/dist-packages (from pandas>=1.1.0->geopandas) (2.8.2)\n",
            "Requirement already satisfied: pytz>=2020.1 in /usr/local/lib/python3.10/dist-packages (from pandas>=1.1.0->geopandas) (2022.7.1)\n",
            "Requirement already satisfied: numpy>=1.21.0 in /usr/local/lib/python3.10/dist-packages (from pandas>=1.1.0->geopandas) (1.22.4)\n",
            "Collecting mapclassify\n",
            "  Downloading mapclassify-2.6.0-py3-none-any.whl (40 kB)\n",
            "\u001b[2K     \u001b[90m━━━━━━━━━━━━━━━━━━━━━━━━━━━━━━━━━━━━━━━\u001b[0m \u001b[32m40.8/40.8 kB\u001b[0m \u001b[31m498.6 kB/s\u001b[0m eta \u001b[36m0:00:00\u001b[0m\n",
            "\u001b[?25hRequirement already satisfied: scipy>=1.0 in /usr/local/lib/python3.10/dist-packages (from mapclassify) (1.10.1)\n",
            "Requirement already satisfied: numpy>=1.3 in /usr/local/lib/python3.10/dist-packages (from mapclassify) (1.22.4)\n",
            "Requirement already satisfied: scikit-learn in /usr/local/lib/python3.10/dist-packages (from mapclassify) (1.2.2)\n",
            "Requirement already satisfied: pandas>=1.0 in /usr/local/lib/python3.10/dist-packages (from mapclassify) (1.5.3)\n",
            "Requirement already satisfied: networkx in /usr/local/lib/python3.10/dist-packages (from mapclassify) (3.1)\n",
            "Requirement already satisfied: python-dateutil>=2.8.1 in /usr/local/lib/python3.10/dist-packages (from pandas>=1.0->mapclassify) (2.8.2)\n",
            "Requirement already satisfied: pytz>=2020.1 in /usr/local/lib/python3.10/dist-packages (from pandas>=1.0->mapclassify) (2022.7.1)\n",
            "Requirement already satisfied: joblib>=1.1.1 in /usr/local/lib/python3.10/dist-packages (from scikit-learn->mapclassify) (1.3.1)\n",
            "Requirement already satisfied: threadpoolctl>=2.0.0 in /usr/local/lib/python3.10/dist-packages (from scikit-learn->mapclassify) (3.2.0)\n",
            "Requirement already satisfied: six>=1.5 in /usr/local/lib/python3.10/dist-packages (from python-dateutil>=2.8.1->pandas>=1.0->mapclassify) (1.16.0)\n",
            "Installing collected packages: mapclassify\n",
            "Successfully installed mapclassify-2.6.0\n"
          ]
        }
      ]
    },
    {
      "cell_type": "markdown",
      "source": [
        "## Importación de librerías\n",
        "Incorporamos las librerías que utilizaremos en esta notebook"
      ],
      "metadata": {
        "id": "mNDO84_MQJVo"
      }
    },
    {
      "cell_type": "code",
      "source": [
        "%matplotlib inline\n",
        "import pandas as pd\n",
        "import geopandas\n",
        "import matplotlib"
      ],
      "metadata": {
        "id": "309zWpzeQhBb"
      },
      "execution_count": null,
      "outputs": []
    },
    {
      "cell_type": "markdown",
      "source": [
        "## Importar archivos\n",
        "Los datos geoespaciales están disponibles en distintos formatos de archivo que veremos en el próximo encuentro. Podemos usar la biblioteca GeoPandas para leer muchos de esos formatos de archivo usando la función `geopandas.read_file`."
      ],
      "metadata": {
        "id": "ifps95H4Qvqk"
      }
    },
    {
      "cell_type": "code",
      "source": [
        "# Descarga de archivos de un repositorio público\n",
        "!wget -L https://www.mapee.com.ar/unab/data/ne_110m_admin_0_countries.zip -P data\n",
        "\n",
        "# Importamos el archivo descargado\n",
        "paises = geopandas.read_file(\"/content/data/ne_110m_admin_0_countries.zip\")"
      ],
      "metadata": {
        "id": "8_yNVFBdRKnu"
      },
      "execution_count": null,
      "outputs": []
    },
    {
      "cell_type": "markdown",
      "source": [
        "## Inspección rápida del set de datos\n",
        "Podemos utilizar funciones de Pandas como `head()`"
      ],
      "metadata": {
        "id": "UCRUT-aLcuGs"
      }
    },
    {
      "cell_type": "code",
      "source": [
        "paises.head()"
      ],
      "metadata": {
        "id": "AKQ0OfZPZzF5"
      },
      "execution_count": null,
      "outputs": []
    },
    {
      "cell_type": "markdown",
      "source": [
        "Verificamos el tipo de clase de *paises*"
      ],
      "metadata": {
        "id": "OO0Tggtdclb4"
      }
    },
    {
      "cell_type": "code",
      "source": [
        "type(paises)"
      ],
      "metadata": {
        "id": "CbWOxPVvcWv2"
      },
      "execution_count": null,
      "outputs": []
    },
    {
      "cell_type": "markdown",
      "source": [
        "Verificamos el tipo de clase de la columna *geometry*"
      ],
      "metadata": {
        "id": "vgOfM7BfeDl5"
      }
    },
    {
      "cell_type": "code",
      "source": [
        "type(paises.geometry)"
      ],
      "metadata": {
        "id": "XlAVp8PJeDPE"
      },
      "execution_count": null,
      "outputs": []
    },
    {
      "cell_type": "markdown",
      "source": [
        "Como tenemos una columna de geometría podemos utilizar `plot()` (matplotlib) o `explore()` (Folium / Leaflet.js) para obtener rápidamente una visualización básica de los datos"
      ],
      "metadata": {
        "id": "yKPlpRFldIKW"
      }
    },
    {
      "cell_type": "code",
      "source": [
        "paises.plot()"
      ],
      "metadata": {
        "id": "6xM6AE0Cb9OY"
      },
      "execution_count": null,
      "outputs": []
    },
    {
      "cell_type": "code",
      "source": [
        "paises.explore()"
      ],
      "metadata": {
        "id": "t5eMbOZncDxP"
      },
      "execution_count": null,
      "outputs": []
    },
    {
      "cell_type": "markdown",
      "source": [
        "Tambien podemos realizar operaciones sobre la columna geometría (de la misma forma que Pandas realiza con las columnas). Por ejemplo, calcularemos la superficie de nuestros paises con el método `area()`."
      ],
      "metadata": {
        "id": "Nm_lSIaleYMw"
      }
    },
    {
      "cell_type": "code",
      "source": [
        "paises.geometry.area"
      ],
      "metadata": {
        "id": "jrDWwMQ0el5r"
      },
      "execution_count": null,
      "outputs": []
    },
    {
      "cell_type": "markdown",
      "source": [
        "**NOTA**: Tendremos una advertencia al ejecutar el código anterior. Este tema lo veremos con mas detalle en la clase 3."
      ],
      "metadata": {
        "id": "0RrXl8qAewir"
      }
    },
    {
      "cell_type": "markdown",
      "source": [
        "Podemos aplicar lo aprendido de Pandas en este GeoDataFrame, por ejemplo, calcular la población promedio de los paises con el método **mean()**."
      ],
      "metadata": {
        "id": "RlWVp0aJfOok"
      }
    },
    {
      "cell_type": "code",
      "source": [
        "paises['pop_est'].mean()"
      ],
      "metadata": {
        "id": "SuZcka-6fNdt"
      },
      "execution_count": null,
      "outputs": []
    },
    {
      "cell_type": "markdown",
      "source": [
        "Tambien podemos utilizar las funciones de filtrado para generar subgrupos de datos. Seleccionaremos los paises de Sudamérica."
      ],
      "metadata": {
        "id": "UWvZ_qwPfrAp"
      }
    },
    {
      "cell_type": "code",
      "source": [
        "sudamerica = paises[paises['continent'] == 'South America']"
      ],
      "metadata": {
        "id": "kcybqu3-f-PQ"
      },
      "execution_count": null,
      "outputs": []
    },
    {
      "cell_type": "code",
      "source": [
        "sudamerica.plot()"
      ],
      "metadata": {
        "id": "MBpksZuugHmJ"
      },
      "execution_count": null,
      "outputs": []
    }
  ]
}